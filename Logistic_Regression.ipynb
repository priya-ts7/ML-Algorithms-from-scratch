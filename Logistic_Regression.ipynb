{
  "nbformat": 4,
  "nbformat_minor": 0,
  "metadata": {
    "colab": {
      "name": "Logistic Regression.ipynb",
      "provenance": []
    },
    "kernelspec": {
      "name": "python3",
      "display_name": "Python 3"
    }
  },
  "cells": [
    {
      "cell_type": "code",
      "metadata": {
        "id": "uV1qFhFevKGw"
      },
      "source": [
        "import numpy as np\n",
        "from sklearn.model_selection import train_test_split\n",
        "from sklearn import datasets\n",
        "import matplotlib.pyplot as plt\n"
      ],
      "execution_count": 16,
      "outputs": []
    },
    {
      "cell_type": "code",
      "metadata": {
        "id": "WF5CCsBMxWd4"
      },
      "source": [
        "#Implementing Logistic Regression with Gradient Descent\n",
        "\n",
        "class CustomLogisticReg():\n",
        "\n",
        "  def __init__(self,learning_rate,n_epochs):\n",
        "    self.rate = learning_rate\n",
        "    self.iter = n_epochs\n",
        "    self.weights = None\n",
        "    self.bias = None\n",
        "  \n",
        "  #Function for calculating sigmoid(x)\n",
        "  def Sigmoid(self, x):\n",
        "        return 1 / (1 + np.exp(-x))\n",
        "\n",
        "  def train(self, X, Y):\n",
        "\n",
        "    #Determine number of data points and features in dataset\n",
        "    self.n, self.features = X.shape\n",
        "\n",
        "    self.weights = np.zeros(self.features)\n",
        "    self.bias = 0\n",
        "\n",
        "    #Perform gradient descent\n",
        "    for i in range(self.iter):\n",
        "      self.weight_update(X, Y)\n",
        "\n",
        "  #Function for updating weights through gradient descent\n",
        "  def weight_update(self, X, Y):\n",
        "\n",
        "    y_pred = self.Sigmoid(np.dot(X, self.weights) + self.bias)\n",
        "    \n",
        "\n",
        "    #Calculating the gradients\n",
        "    dw =  (-1 * np.dot(X.T, (Y-y_pred))) / self.n\n",
        "    db =  (-1 * np.sum(Y-y_pred)) / self.n\n",
        "\n",
        "    #Updating the parameters\n",
        "    self.weights = self.weights - self.rate * dw\n",
        "    self.bias = self.bias - self.rate * db\n",
        "\n",
        "  def predict(self,X):\n",
        "    \n",
        "    y_pred = self.Sigmoid(np.dot(X, self.weights) + self.bias)\n",
        "    y_label = [1 if i > 0.5 else 0 for i in y_pred]\n",
        "    return np.array(y_label)\n",
        "  "
      ],
      "execution_count": 17,
      "outputs": []
    },
    {
      "cell_type": "code",
      "metadata": {
        "colab": {
          "base_uri": "https://localhost:8080/"
        },
        "id": "uzwomKxFzY5f",
        "outputId": "2ec49e80-76ac-4d37-af7c-867c39db111b"
      },
      "source": [
        "#Loading the Breast Cancer Dataset from sklearn\n",
        "cancer_data = datasets.load_breast_cancer()\n",
        "X, Y = cancer_data.data, cancer_data.target\n",
        "\n",
        "#Split the dataset into train and test sets\n",
        "X_train, X_test, Y_train, Y_test = train_test_split(X, Y, test_size=0.15, random_state=42)\n",
        "\n",
        "\n",
        "model = CustomLogisticReg(learning_rate=0.0001, n_epochs=1000)\n",
        "model.train(X_train, Y_train)\n",
        "\n",
        "#Function to calculate accuracy of model\n",
        "def accuracy(y_true, y_pred):\n",
        "    accuracy = np.sum(y_true == y_pred) / len(y_true)\n",
        "    return accuracy\n",
        "\n",
        "#Testing the model\n",
        "y_predicted = model.predict(X_test)\n",
        "print(\"LR classification accuracy:\", accuracy(Y_test, y_predicted))"
      ],
      "execution_count": 18,
      "outputs": [
        {
          "output_type": "stream",
          "text": [
            "LR classification accuracy: 0.9418604651162791\n"
          ],
          "name": "stdout"
        }
      ]
    }
  ]
}