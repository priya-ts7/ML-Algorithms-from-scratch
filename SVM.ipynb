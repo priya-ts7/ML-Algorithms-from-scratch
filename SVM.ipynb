{
  "nbformat": 4,
  "nbformat_minor": 0,
  "metadata": {
    "colab": {
      "name": "SVM.ipynb",
      "provenance": []
    },
    "kernelspec": {
      "name": "python3",
      "display_name": "Python 3"
    }
  },
  "cells": [
    {
      "cell_type": "code",
      "metadata": {
        "id": "OE264R9V0-ld"
      },
      "source": [
        "import numpy as np\n",
        "from sklearn.datasets import make_blobs\n",
        "import matplotlib.pyplot as plt"
      ],
      "execution_count": 1,
      "outputs": []
    },
    {
      "cell_type": "code",
      "metadata": {
        "id": "SRRANyWF5OKR"
      },
      "source": [
        "#Implementing Support Vector Machine with Linear Kernel\n",
        "class CustomLinearSVM():\n",
        "\n",
        "  def __init__(self,learning_rate,n_epochs,lambda_value):\n",
        "    self.rate = learning_rate\n",
        "    self.iter = n_epochs\n",
        "    self.lambda_val = lambda_value\n",
        "    self.weights = None\n",
        "    self.bias = None\n",
        "\n",
        "  def train(self, X, Y):\n",
        "\n",
        "    #Determine number of data points and features in dataset\n",
        "    self.n, self.features = X.shape\n",
        "\n",
        "    self.weights = np.zeros(self.features)\n",
        "    self.bias = 0\n",
        "\n",
        "    #Modifying the output values\n",
        "    y_modified = np.where(Y <= 0, -1, 1)\n",
        "\n",
        "    for _ in range(self.iter):\n",
        "      self.optimization(X, Y)\n",
        "\n",
        "  def optimization(self, X, Y):\n",
        "\n",
        "    for i, x in enumerate(X):\n",
        "      #Defining the SVM constraint as an optimization problem \n",
        "      hyperplane_constraint = Y[i] * (np.dot (x , self.weights) - self.bias) \n",
        "\n",
        "      #Updating the parameters to minimize w and hence maximize the margin\n",
        "      if hyperplane_constraint >= 1:\n",
        "        self.weights = self.weights - self.rate * (2 * self.weights * self.lambda_val)\n",
        "      else:\n",
        "        self.weights = self.weights - self.rate * (2 * self.weights * self.lambda_val - np.dot(x, Y[i]))\n",
        "        self.bias = self.bias - self.rate * Y[i]\n",
        "\n",
        "  def predict(self,X):\n",
        "    #Predicting the ouput using the learned parameters\n",
        "    y_out = np.dot(X, self.weights) - self.bias\n",
        "    return np.sign(y_out)"
      ],
      "execution_count": 17,
      "outputs": []
    },
    {
      "cell_type": "code",
      "metadata": {
        "colab": {
          "base_uri": "https://localhost:8080/",
          "height": 282
        },
        "id": "87PkB8icFAp0",
        "outputId": "880079e6-595a-4440-eb83-613e254cd6cd"
      },
      "source": [
        "#Generating Gaussian blobs with 30 samples and 2 centres\n",
        "X, Y = make_blobs(n_samples=30, centers=2, random_state=42)\n",
        "\n",
        "# Training the model \n",
        "#Hyperparameters: Learning rate = 0.01; Number of epochs = 1000, Lambda = 0.01\n",
        "model = CustomLinearSVM(0.001,1000,0.01)\n",
        "model.train(X, Y)\n",
        "\n",
        "#Plotting the generated blobs\n",
        "plt.scatter(X[:, 0], X[:, 1], c=Y, s=30, cmap=plt.cm.Paired)\n"
      ],
      "execution_count": 27,
      "outputs": [
        {
          "output_type": "execute_result",
          "data": {
            "text/plain": [
              "<matplotlib.collections.PathCollection at 0x7fc526f106d8>"
            ]
          },
          "metadata": {
            "tags": []
          },
          "execution_count": 27
        },
        {
          "output_type": "display_data",
          "data": {
            "image/png": "[encoded data removed]",
            "text/plain": [
              "<Figure size 432x288 with 1 Axes>"
            ]
          },
          "metadata": {
            "tags": [],
            "needs_background": "light"
          }
        }
      ]
    },
    {
      "cell_type": "code",
      "metadata": {
        "colab": {
          "base_uri": "https://localhost:8080/"
        },
        "id": "rKvyXnLwFnmR",
        "outputId": "c07786a6-f6d0-4413-bbf7-55d2d6e33bc9"
      },
      "source": [
        "print (model.weights)\n"
      ],
      "execution_count": 28,
      "outputs": [
        {
          "output_type": "stream",
          "text": [
            "[0.24608411 0.09385757]\n"
          ],
          "name": "stdout"
        }
      ]
    },
    {
      "cell_type": "code",
      "metadata": {
        "colab": {
          "base_uri": "https://localhost:8080/"
        },
        "id": "k26-mNL-I2t_",
        "outputId": "f584149b-2109-4377-e15b-a1c1e5f787b0"
      },
      "source": [
        "print (model.bias)"
      ],
      "execution_count": 29,
      "outputs": [
        {
          "output_type": "stream",
          "text": [
            "-0.10700000000000008\n"
          ],
          "name": "stdout"
        }
      ]
    }
  ]
}