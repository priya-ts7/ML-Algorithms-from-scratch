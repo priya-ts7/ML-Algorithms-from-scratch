{
  "nbformat": 4,
  "nbformat_minor": 0,
  "metadata": {
    "colab": {
      "name": "Linear Regression.ipynb",
      "provenance": [],
      "collapsed_sections": []
    },
    "kernelspec": {
      "name": "python3",
      "display_name": "Python 3"
    }
  },
  "cells": [
    {
      "cell_type": "code",
      "metadata": {
        "id": "Tug2XLKYLE4O"
      },
      "source": [
        "import numpy as np\n",
        "import numpy as np\n",
        "from sklearn.model_selection import train_test_split\n",
        "from sklearn import datasets\n",
        "import matplotlib.pyplot as plt\n",
        "import random\n",
        "from sklearn.metrics import mean_squared_error\n"
      ],
      "execution_count": 29,
      "outputs": []
    },
    {
      "cell_type": "code",
      "metadata": {
        "id": "EkKR9c3JLHTo"
      },
      "source": [
        "#Implementing Linear Regression with Gradient Descent\n",
        "class CustomLinearReg():\n",
        "\n",
        "  def __init__(self,learning_rate,n_epochs):\n",
        "    self.rate = learning_rate\n",
        "    self.iter = n_epochs\n",
        "    self.weights = None\n",
        "    self.bias = None\n",
        "\n",
        "  def train(self, X, Y):\n",
        "\n",
        "    #Determine number of data points and features in dataset\n",
        "    self.n, self.features = X.shape\n",
        "\n",
        "   \n",
        "    self.weights = np.zeros(self.features)\n",
        "    self.bias = 0\n",
        "\n",
        "    #Perform gradient descent\n",
        "    for i in range(self.iter):\n",
        "      self.weight_update(X, Y)\n",
        "\n",
        "  def weight_update(self, X, Y):\n",
        "    y_pred = np.dot(X, self.weights) + self.bias\n",
        "\n",
        "    #Calculating the gradients\n",
        "    dw = (-2 * np.dot(X.T , (Y-y_pred))) / self.n\n",
        "    db = (-2  * np.sum(Y-y_pred)) / self.n\n",
        "\n",
        "    #Updating the parameters\n",
        "    self.weights = self.weights - self.rate * dw\n",
        "    self.bias = self.bias - self.rate * db\n",
        "\n",
        "  def predict(self,X):\n",
        "    y_out = np.dot(X, self.weights) + self.bias\n",
        "    return y_out"
      ],
      "execution_count": 30,
      "outputs": []
    },
    {
      "cell_type": "code",
      "metadata": {
        "colab": {
          "base_uri": "https://localhost:8080/",
          "height": 265
        },
        "id": "4n5Bclm3AkzT",
        "outputId": "dd6d767d-a6fd-409f-e262-eb028d4edc40"
      },
      "source": [
        "#Generating a random regression problem \n",
        "X, Y = datasets.make_regression(n_samples=200, n_features=1, noise=20, random_state= 7 )\n",
        "X_train, X_test, Y_train, Y_test = train_test_split(X, Y, test_size=0.2, random_state=42)\n",
        "\n",
        "#Training and testing the model\n",
        "model = CustomLinearReg(learning_rate=0.001,n_epochs=1000)\n",
        "model.train(X_train, Y_train)\n",
        "y_predicted = model.predict(X_test)\n",
        "\n",
        "\n",
        "plt.scatter(X, Y)\n",
        "plt.plot(X , model.predict(X), color = 'black')\n",
        "plt.show()"
      ],
      "execution_count": 31,
      "outputs": [
        {
          "output_type": "display_data",
          "data": {
            "image/png": "[encoded data removed]",
            "text/plain": [
              "<Figure size 432x288 with 1 Axes>"
            ]
          },
          "metadata": {
            "tags": [],
            "needs_background": "light"
          }
        }
      ]
    }
  ]
}